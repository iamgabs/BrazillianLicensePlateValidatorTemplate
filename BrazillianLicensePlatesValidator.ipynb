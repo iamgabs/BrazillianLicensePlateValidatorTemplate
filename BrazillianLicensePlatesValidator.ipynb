{
  "nbformat": 4,
  "nbformat_minor": 0,
  "metadata": {
    "colab": {
      "provenance": []
    },
    "kernelspec": {
      "name": "python3",
      "display_name": "Python 3"
    },
    "language_info": {
      "name": "python"
    }
  },
  "cells": [
    {
      "cell_type": "markdown",
      "source": [
        "*Gabriel da Silva Carvalho*\n",
        "\n",
        "**[iamgabs](https://github.com/iamgabs)**\n",
        "\n",
        "The codes assumes that you need consider lower case letters, else remove a-z from the patterns"
      ],
      "metadata": {
        "id": "2Nx50UU7KvaB"
      }
    },
    {
      "cell_type": "code",
      "execution_count": 12,
      "metadata": {
        "id": "_j9O5MqgESW2"
      },
      "outputs": [],
      "source": [
        "# Old pattern = AAA-0000\n",
        "def check_oldpattern(text: str) -> bool:\n",
        "  import re\n",
        "  pattern = r\"^[a-zA-Z]{3}-?\\d{4}$\"\n",
        "  return True if (re.match(pattern, text) and len(text) in [7, 8])  else False"
      ]
    },
    {
      "cell_type": "code",
      "source": [
        "# new pattern = AAA0A00\n",
        "def check_new_pattern(text: str) -> bool:\n",
        "  import re\n",
        "  pattern = r\"^[a-zA-Z]{3}\\d[a-zA-Z]\\d{2}$\"\n",
        "  return True if (re.match(pattern, text) and len(text) == 7) else False"
      ],
      "metadata": {
        "id": "IHmdVBxEIT88"
      },
      "execution_count": 17,
      "outputs": []
    },
    {
      "cell_type": "code",
      "source": [
        "# Test cases\n",
        "print(check_oldpattern(\"ABC-1234\"))  # Expected: True\n",
        "print(check_oldpattern(\"ABC-123\"))   # Expected: False\n",
        "print(check_oldpattern(\"ABCD-1234\")) # Expected: False\n",
        "print(check_oldpattern(\"abc-1234\"))  # Expected: True\n",
        "print(check_oldpattern(\"ABC-12345\")) # Expected: False\n",
        "print(check_oldpattern(\"ABC1234\")) # Expected: True"
      ],
      "metadata": {
        "id": "_TrM13OkG3cR"
      },
      "execution_count": null,
      "outputs": []
    },
    {
      "cell_type": "code",
      "source": [
        "# Test cases for check_new_pattern\n",
        "print(check_new_pattern(\"ABC1A12\"))  # Expected: True\n",
        "print(check_new_pattern(\"ABC1A123\")) # Expected: False\n",
        "print(check_new_pattern(\"AB1A12\"))   # Expected: False\n",
        "print(check_new_pattern(\"ABC1112\"))  # Expected: False\n",
        "print(check_new_pattern(\"abc1A12\"))  # Expected: True\n",
        "print(check_new_pattern(\"ABC1a12\")) # Expected: True"
      ],
      "metadata": {
        "id": "RZiJK28FIT2T"
      },
      "execution_count": null,
      "outputs": []
    }
  ]
}