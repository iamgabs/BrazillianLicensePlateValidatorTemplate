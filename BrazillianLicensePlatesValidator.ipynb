{
  "cells": [
    {
      "cell_type": "markdown",
      "metadata": {
        "id": "2Nx50UU7KvaB"
      },
      "source": [
        "*Gabriel da Silva Carvalho*\n",
        "\n",
        "**[iamgabs](https://github.com/iamgabs)**\n",
        "\n",
        "The codes assumes that you need to consider lower case letters, else remove a-z from the patterns"
      ]
    },
    {
      "cell_type": "code",
      "execution_count": null,
      "metadata": {
        "id": "d1f3b5c2a78d"
      },
      "outputs": [],
      "source": [
        "import re"
      ]
    },
    {
      "cell_type": "code",
      "execution_count": 12,
      "metadata": {
        "id": "_j9O5MqgESW2"
      },
      "outputs": [],
      "source": [
        "# Old pattern = AAA-0000\n",
        "def check_old_pattern(text: str) -> bool:\n",
        "  pattern = r\"^[a-zA-Z]{3}-?\\d{4}$\"\n",
        "  return True if (re.match(pattern, text) and len(text) in [7, 8]) else False"
      ]
    },
    {
      "cell_type": "code",
      "execution_count": 17,
      "metadata": {
        "id": "IHmdVBxEIT88"
      },
      "outputs": [],
      "source": [
        "# New pattern = AAA0A00\n",
        "def check_new_pattern(text: str) -> bool:\n",
        "  pattern = r\"^[a-zA-Z]{3}\\d[a-zA-Z]\\d{2}$\"\n",
        "  return True if (re.match(pattern, text) and len(text) == 7) else False"
      ]
    },
    {
      "cell_type": "code",
      "execution_count": null,
      "metadata": {
        "id": "_TrM13OkG3cR"
      },
      "outputs": [],
      "source": [
        "# Test cases for check_old_pattern\n",
        "print(check_old_pattern(\"ABC-1234\"))  # Expected: True\n",
        "print(check_old_pattern(\"ABC-123\"))   # Expected: False\n",
        "print(check_old_pattern(\"ABCD-1234\")) # Expected: False\n",
        "print(check_old_pattern(\"abc-1234\"))  # Expected: True\n",
        "print(check_old_pattern(\"ABC-12345\")) # Expected: False\n",
        "print(check_old_pattern(\"ABC1234\"))   # Expected: True"
      ]
    },
    {
      "cell_type": "code",
      "execution_count": null,
      "metadata": {
        "id": "RZiJK28FIT2T"
      },
      "outputs": [],
      "source": [
        "# Test cases for check_new_pattern\n",
        "print(check_new_pattern(\"ABC1A12\"))  # Expected: True\n",
        "print(check_new_pattern(\"ABC1A123\")) # Expected: False\n",
        "print(check_new_pattern(\"AB1A12\"))   # Expected: False\n",
        "print(check_new_pattern(\"ABC1112\"))  # Expected: False\n",
        "print(check_new_pattern(\"abc1A12\"))  # Expected: True\n",
        "print(check_new_pattern(\"ABC1a12\"))  # Expected: True"
      ]
    }
  ],
  "metadata": {
    "colab": {
      "provenance": []
    },
    "kernelspec": {
      "display_name": "Python 3",
      "name": "python3"
    },
    "language_info": {
      "name": "python"
    }
  },
  "nbformat": 4,
  "nbformat_minor": 0
}
